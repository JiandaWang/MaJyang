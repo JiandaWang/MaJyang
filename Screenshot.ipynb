{
 "cells": [
  {
   "cell_type": "code",
   "execution_count": null,
   "metadata": {},
   "outputs": [],
   "source": [
    "import pyWinhook\n",
    "import pythoncom\n",
    "import time\n",
    "import win32api\n",
    "from PIL import Image, ImageGrab"
   ]
  },
  {
   "cell_type": "code",
   "execution_count": null,
   "metadata": {},
   "outputs": [],
   "source": [
    "# define global constants\n",
    "g_SaveImagePath_str = r'Database\\Raw_Screenshots'"
   ]
  },
  {
   "cell_type": "code",
   "execution_count": null,
   "metadata": {},
   "outputs": [],
   "source": [
    "def onKeyboardEvent(f_event):\n",
    "    global g_hm\n",
    "    global g_SaveImagePath_str\n",
    "\n",
    "    # when 'C' is pressed, save screen shot of current screen\n",
    "    # naming rule: yyyymmdd_hhmmss\n",
    "    if f_event.Key == 'C':\n",
    "        # get current time string\n",
    "        l_cur_time_str = time.strftime('%Y%m%d_%H%M%S', time.localtime())\n",
    "        # get current screenshot\n",
    "        l_im_img = ImageGrab.grab()\n",
    "        # save into the database folder with current time as name\n",
    "        l_im_img.save(g_SaveImagePath_str+'\\\\'+l_cur_time_str+'.png')\n",
    "        print(l_cur_time_str+'.png saved.')\n",
    "        \n",
    "    # when 'Escape' is pressed, stop monitoring & hook\n",
    "    if f_event.Key == 'Escape':\n",
    "        win32api.PostQuitMessage() # send quit message\n",
    "        g_hm.UnhookKeyboard() # unhook the mouse\n",
    "        print('Hook stopped.')\n",
    "\n",
    "    # return\n",
    "    return True"
   ]
  },
  {
   "cell_type": "code",
   "execution_count": null,
   "metadata": {},
   "outputs": [],
   "source": [
    "# main function\n",
    "\n",
    "# get hook manager\n",
    "g_hm = pyWinhook.HookManager()\n",
    "# set call back function for keyboard hook\n",
    "g_hm.KeyDown = onKeyboardEvent\n",
    "# start keyboard hook\n",
    "g_hm.HookKeyboard()\n",
    "\n",
    "# start monitering\n",
    "pythoncom.PumpMessages()"
   ]
  },
  {
   "cell_type": "code",
   "execution_count": null,
   "metadata": {},
   "outputs": [],
   "source": []
  }
 ],
 "metadata": {
  "kernelspec": {
   "display_name": "Python 3",
   "language": "python",
   "name": "python3"
  },
  "language_info": {
   "codemirror_mode": {
    "name": "ipython",
    "version": 3
   },
   "file_extension": ".py",
   "mimetype": "text/x-python",
   "name": "python",
   "nbconvert_exporter": "python",
   "pygments_lexer": "ipython3",
   "version": "3.7.7"
  }
 },
 "nbformat": 4,
 "nbformat_minor": 4
}
