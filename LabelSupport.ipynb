{
 "cells": [
  {
   "cell_type": "code",
   "execution_count": null,
   "metadata": {},
   "outputs": [],
   "source": [
    "import os\n",
    "import pandas as pd"
   ]
  },
  {
   "cell_type": "code",
   "execution_count": null,
   "metadata": {},
   "outputs": [],
   "source": [
    "# define global constants\n",
    "# input path\n",
    "g_InputFolderPath_str = r'Database\\EgoHand_Separated_PAIs'\n",
    "\n",
    "# dict between PAI name and ID\n",
    "g_PAI_Dict_c = {'1m': 0, \\\n",
    "                '2m': 1, \\\n",
    "                '3m': 2, \\\n",
    "                '4m': 3, \\\n",
    "                '5m': 4, \\\n",
    "                '6m': 5, \\\n",
    "                '7m': 6, \\\n",
    "                '8m': 7, \\\n",
    "                '9m': 8, \\\n",
    "                '1p': 9, \\\n",
    "                '2p': 10, \\\n",
    "                '3p': 11, \\\n",
    "                '4p': 12, \\\n",
    "                '5p': 13, \\\n",
    "                '6p': 14, \\\n",
    "                '7p': 15, \\\n",
    "                '8p': 16, \\\n",
    "                '9p': 17, \\\n",
    "                '1s': 18, \\\n",
    "                '2s': 19, \\\n",
    "                '3s': 20, \\\n",
    "                '4s': 21, \\\n",
    "                '5s': 22, \\\n",
    "                '6s': 23, \\\n",
    "                '7s': 24, \\\n",
    "                '8s': 25, \\\n",
    "                '9s': 26, \\\n",
    "                'E' : 27, \\\n",
    "                'S' : 28, \\\n",
    "                'W' : 29, \\\n",
    "                'N' : 30, \\\n",
    "                'R' : 31, \\\n",
    "                'G' : 32, \\\n",
    "                'Wh': 33, \\\n",
    "               }"
   ]
  },
  {
   "cell_type": "code",
   "execution_count": null,
   "metadata": {},
   "outputs": [],
   "source": [
    "# main function\n",
    "\n",
    "# check if input folder path exists\n",
    "if os.path.isdir(g_InputFolderPath_str):\n",
    "    # set the label file path\n",
    "    l_LabelPath_str = g_InputFolderPath_str+'\\\\Label.xlsx'\n",
    "    # check whether label file is already existing\n",
    "    if os.path.isfile(l_LabelPath_str):\n",
    "        # open label file\n",
    "        l_Label_df = pd.read_excel(l_LabelPath_str, index_col=None)\n",
    "        # check whether column Label_ID already exists\n",
    "        if 'Label_ID' in l_Label_df.columns:\n",
    "            # do nothing\n",
    "            pass\n",
    "        else:\n",
    "            # write the corresponding ID into label file\n",
    "            l_Label_df['Label_ID'] = l_Label_df.apply(lambda x: g_PAI_Dict_c[x['Label']],axis=1)\n",
    "            # adapt the file name into full path\n",
    "            l_Label_df['File_Name'] = l_Label_df.apply(lambda x: g_InputFolderPath_str+'\\\\'+x['File_Name'],axis=1)\n",
    "            # write the new column into xlsx\n",
    "            l_Label_df.to_excel(l_LabelPath_str, index=False, engine='xlsxwriter')\n",
    "    else:\n",
    "        # collect all file names into a dataframe\n",
    "        # not file path -> little bit easier for manual labelling\n",
    "        l_NameList_lst = []\n",
    "        for entry in os.scandir(g_InputFolderPath_str):\n",
    "            if entry.name[entry.name.rfind('.'):] == '.png': \n",
    "                l_NameList_lst.append(entry.name)\n",
    "        l_NameDataframe_df = pd.DataFrame({'File_Name': l_NameList_lst})\n",
    "        # write dataframe into csv\n",
    "        l_NameDataframe_df.to_excel(l_LabelPath_str, index=False, engine='xlsxwriter')"
   ]
  },
  {
   "cell_type": "code",
   "execution_count": null,
   "metadata": {},
   "outputs": [],
   "source": []
  }
 ],
 "metadata": {
  "kernelspec": {
   "display_name": "Python 3",
   "language": "python",
   "name": "python3"
  },
  "language_info": {
   "codemirror_mode": {
    "name": "ipython",
    "version": 3
   },
   "file_extension": ".py",
   "mimetype": "text/x-python",
   "name": "python",
   "nbconvert_exporter": "python",
   "pygments_lexer": "ipython3",
   "version": "3.7.7"
  }
 },
 "nbformat": 4,
 "nbformat_minor": 4
}
