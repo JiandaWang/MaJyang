{
 "cells": [
  {
   "cell_type": "code",
   "execution_count": null,
   "metadata": {},
   "outputs": [],
   "source": [
    "import os\n",
    "from PIL import Image, ImageDraw, ImageFont\n",
    "import cv2\n",
    "import numpy as np"
   ]
  },
  {
   "cell_type": "code",
   "execution_count": null,
   "metadata": {},
   "outputs": [],
   "source": [
    "# define global constant\n",
    "\n",
    "# image input path\n",
    "g_InputFolderPath_str = r'Database\\Raw_Screenshots'\n",
    "g_EgoHandOutputFolderPath_str = r'Database\\EgoHand_Separated_PAIs'\n",
    "\n",
    "# crop coordinates for ego hand part, should be changed depend on your screen size\n",
    "g_EgoHandCropLeftUpperX_int = 250\n",
    "g_EgoHandCropLeftUpperY_int = 890\n",
    "g_EgoHandCropRightLowerX_int = 1920 - g_EgoHandCropLeftUpperX_int\n",
    "g_EgoHandCropRightLowerY_int = 1040\n",
    "\n",
    "# rough area of one PAI in down part, used for thresholding rectangle detection; depend on your screen size\n",
    "g_EgoHandCropMinPaiArea_int = 8000\n",
    "\n",
    "# kernal size of gaussian filter for down part; odd integer; too small: can't ensure separation; too big: losing details \n",
    "g_EgoHandGaussKSize_int = 9"
   ]
  },
  {
   "cell_type": "code",
   "execution_count": null,
   "metadata": {},
   "outputs": [],
   "source": [
    "def SeparationEgoHand(f_ImagePath_str, f_ImageNameNoExt_str):\n",
    "    global g_EgoHandOutputFolderPath_str\n",
    "    global g_EgoHandCropLeftUpperX_int\n",
    "    global g_EgoHandCropLeftUpperY_int\n",
    "    global g_EgoHandCropRightLowerX_int\n",
    "    global g_EgoHandCropRightLowerY_int\n",
    "    global g_EgoHandCropMinPaiArea_int\n",
    "    global g_EgoHandGaussKSize_int\n",
    "    \n",
    "    # open image\n",
    "    l_im_img = Image.open(f_ImagePath_str)\n",
    "    \n",
    "    # crop the interesting part\n",
    "    l_im_img = l_im_img.crop((g_EgoHandCropLeftUpperX_int, g_EgoHandCropLeftUpperY_int, \\\n",
    "                              g_EgoHandCropRightLowerX_int, g_EgoHandCropRightLowerY_int))\n",
    "    \n",
    "    # convert into 8 bit gray scale image for further operation\n",
    "    l_im_gs_img = l_im_img.convert('L')\n",
    "    l_im_gs_npa = np.array(l_im_gs_img) # convert to np array for cv2\n",
    "    \n",
    "    # originally from game screenshot, therefor gaussian noise filter not necessary\n",
    "    # still use the gaussian for better contour detection\n",
    "    l_im_gs_npa = cv2.GaussianBlur(l_im_gs_npa, (g_EgoHandGaussKSize_int, g_EgoHandGaussKSize_int), 0)\n",
    "    \n",
    "    # detect edges with canny\n",
    "    l_im_edge_npa = cv2.Canny(l_im_gs_npa, 30, 100)\n",
    "\n",
    "    # detect counters based on edges\n",
    "    # only outside edges and simple 3 directions for edges\n",
    "    l_contour, _ = cv2.findContours(l_im_edge_npa, cv2.RETR_EXTERNAL, cv2.CHAIN_APPROX_SIMPLE)[-2:]\n",
    "    \n",
    "    # find rectangles for each contour\n",
    "    # initialize file suffix counter\n",
    "    l_suffix_int = 0\n",
    "    for c in l_contour:\n",
    "        x, y, w, h = cv2.boundingRect(c)\n",
    "        \n",
    "        # in case rectangles big enough\n",
    "        if w*h >= g_EgoHandCropMinPaiArea_int:\n",
    "            # get the correspoding area from original image\n",
    "            l_im_Pai_img = l_im_img.crop((x, y, x+w, y+h))\n",
    "            # save image to output path\n",
    "            l_im_Pai_img.save(g_EgoHandOutputFolderPath_str+'\\\\'+f_ImageNameNoExt_str+'_'+get2DigitsSuffix(l_suffix_int)+'.png')\n",
    "            # release memory\n",
    "            l_im_Pai_img.close()\n",
    "            # increase suffix index\n",
    "            l_suffix_int += 1\n",
    "            # in case suffix reaches 100, break the loop -> no more 2 digits\n",
    "            # since maximal 14 PAIs in hand, should never be reached!\n",
    "            if l_suffix_int == 100: break\n",
    "\n",
    "    # release memory\n",
    "    l_im_img.close()\n",
    "    l_im_gs_img.close()\n",
    "\n",
    "    # return\n",
    "    return"
   ]
  },
  {
   "cell_type": "code",
   "execution_count": null,
   "metadata": {},
   "outputs": [],
   "source": [
    "def get2DigitsSuffix(f_2DigitsNumber_int):\n",
    "    ans = ''\n",
    "    \n",
    "    if f_2DigitsNumber_int < 10: ans = '0'+str(f_2DigitsNumber_int)\n",
    "    else: ans = str(f_2DigitsNumber_int)\n",
    "    \n",
    "    # return\n",
    "    return ans"
   ]
  },
  {
   "cell_type": "code",
   "execution_count": null,
   "metadata": {},
   "outputs": [],
   "source": [
    "# main function\n",
    "\n",
    "# check if input folder path exists\n",
    "if os.path.isdir(g_InputFolderPath_str):\n",
    "    # loop over all files in input folder\n",
    "    for entry in os.scandir(g_InputFolderPath_str):\n",
    "        # note: no extention check\n",
    "        # check whether in output folder(s) already separated picture exists\n",
    "        l_SepPicNameNoExt_str = entry.name\n",
    "        l_SepPicNameNoExt_str = l_SepPicNameNoExt_str[:l_SepPicNameNoExt_str.rfind('.')] # remove extention\n",
    "        l_SepPicPath_str = l_SepPicNameNoExt_str + '_00.png' # change the file name\n",
    "        l_SepPicPath_str = g_EgoHandOutputFolderPath_str+'\\\\'+l_SepPicPath_str # add output folder path\n",
    "        \n",
    "        if os.path.isfile(l_SepPicPath_str):\n",
    "            # if already exists -> skip this picture\n",
    "            pass\n",
    "        else:\n",
    "            # for each png, call the separation function(s)\n",
    "            SeparationEgoHand(entry.path, l_SepPicNameNoExt_str)"
   ]
  },
  {
   "cell_type": "code",
   "execution_count": null,
   "metadata": {},
   "outputs": [],
   "source": []
  }
 ],
 "metadata": {
  "kernelspec": {
   "display_name": "Python 3",
   "language": "python",
   "name": "python3"
  },
  "language_info": {
   "codemirror_mode": {
    "name": "ipython",
    "version": 3
   },
   "file_extension": ".py",
   "mimetype": "text/x-python",
   "name": "python",
   "nbconvert_exporter": "python",
   "pygments_lexer": "ipython3",
   "version": "3.7.7"
  }
 },
 "nbformat": 4,
 "nbformat_minor": 4
}
