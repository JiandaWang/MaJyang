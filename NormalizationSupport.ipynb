{
 "cells": [
  {
   "cell_type": "code",
   "execution_count": 1,
   "metadata": {},
   "outputs": [],
   "source": [
    "import os\n",
    "from PIL import Image\n",
    "import numpy as np"
   ]
  },
  {
   "cell_type": "code",
   "execution_count": 2,
   "metadata": {},
   "outputs": [],
   "source": [
    "# define global constant\n",
    "g_InputFolderPath_str = r'Database\\EgoHand_Separated_PAIs'"
   ]
  },
  {
   "cell_type": "code",
   "execution_count": 3,
   "metadata": {
    "scrolled": true
   },
   "outputs": [
    {
     "name": "stdout",
     "output_type": "stream",
     "text": [
      "[0.7406573632924783, 0.7232460663149365, 0.6959515512913943]\n",
      "[0.22704669694242244, 0.24139483459696767, 0.2690579683428062]\n",
      "83\n",
      "136\n"
     ]
    }
   ],
   "source": [
    "# check whether input path valid\n",
    "if os.path.isdir(g_InputFolderPath_str):\n",
    "    # initialze 3 summary channels\n",
    "    l_Channel1_lst = []\n",
    "    l_Channel2_lst = []\n",
    "    l_Channel3_lst = []\n",
    "    l_Width_lst = []\n",
    "    l_Height_lst = []\n",
    "    \n",
    "    # loop over all entries in input folder\n",
    "    for entry in os.scandir(g_InputFolderPath_str):\n",
    "        # check whether file is png file\n",
    "        if entry.name[entry.name.rfind('.'):] == '.png':\n",
    "            # open image\n",
    "            l_im_img = Image.open(entry.path)\n",
    "            # transform to numpy array\n",
    "            l_im_npa = np.asarray(l_im_img)\n",
    "            # append to list\n",
    "            l_Channel1_lst.append(l_im_npa[:,:,0].flatten())\n",
    "            l_Channel2_lst.append(l_im_npa[:,:,1].flatten())\n",
    "            l_Channel3_lst.append(l_im_npa[:,:,2].flatten())\n",
    "            l_Width_lst.append(l_im_npa.shape[1])\n",
    "            l_Height_lst.append(l_im_npa.shape[0])\n",
    "            # close image\n",
    "            l_im_img.close()\n",
    "    \n",
    "    # concatenate\n",
    "    l_Channel1_npa = np.concatenate(l_Channel1_lst)\n",
    "    l_Channel2_npa = np.concatenate(l_Channel2_lst)\n",
    "    l_Channel3_npa = np.concatenate(l_Channel3_lst)\n",
    "    \n",
    "    # scale to [0,1]\n",
    "    l_Channel1_npa = l_Channel1_npa/255\n",
    "    l_Channel2_npa = l_Channel2_npa/255\n",
    "    l_Channel3_npa = l_Channel3_npa/255\n",
    "    \n",
    "    # calulate the mean and standard deviation\n",
    "    g_NormMean_lst = [np.mean(l_Channel1_npa), np.mean(l_Channel2_npa), np.mean(l_Channel3_npa)]\n",
    "    g_NormStd_lst = [np.std(l_Channel1_npa, ddof=1), np.std(l_Channel2_npa, ddof=1), np.std(l_Channel3_npa, ddof=1)]\n",
    "    g_AvgW_int = round(np.mean(l_Width_lst))\n",
    "    g_AvgH_int = round(np.mean(l_Height_lst))\n",
    "    \n",
    "    # print\n",
    "    print(g_NormMean_lst)\n",
    "    print(g_NormStd_lst)\n",
    "    print(g_AvgW_int)\n",
    "    print(g_AvgH_int)"
   ]
  },
  {
   "cell_type": "code",
   "execution_count": null,
   "metadata": {},
   "outputs": [],
   "source": []
  }
 ],
 "metadata": {
  "kernelspec": {
   "display_name": "Python 3",
   "language": "python",
   "name": "python3"
  },
  "language_info": {
   "codemirror_mode": {
    "name": "ipython",
    "version": 3
   },
   "file_extension": ".py",
   "mimetype": "text/x-python",
   "name": "python",
   "nbconvert_exporter": "python",
   "pygments_lexer": "ipython3",
   "version": "3.7.7"
  }
 },
 "nbformat": 4,
 "nbformat_minor": 4
}
